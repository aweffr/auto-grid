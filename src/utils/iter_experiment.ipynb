{
 "cells": [
  {
   "cell_type": "code",
   "execution_count": 1,
   "metadata": {},
   "outputs": [
    {
     "ename": "FileNotFoundError",
     "evalue": "[Errno 2] No such file or directory: 'E:/Abaqusdir/auto/output/pm1508.json'",
     "output_type": "error",
     "traceback": [
      "\u001b[1;31m---------------------------------------------------------------------------\u001b[0m",
      "\u001b[1;31mFileNotFoundError\u001b[0m                         Traceback (most recent call last)",
      "\u001b[1;32m<ipython-input-1-ad3b19a85fc7>\u001b[0m in \u001b[0;36m<module>\u001b[1;34m()\u001b[0m\n\u001b[0;32m      5\u001b[0m \u001b[0mdata_path\u001b[0m \u001b[1;33m=\u001b[0m \u001b[1;34m\"E:/Abaqusdir/auto/output\"\u001b[0m\u001b[1;33m\u001b[0m\u001b[0m\n\u001b[0;32m      6\u001b[0m \u001b[0mfile_name\u001b[0m \u001b[1;33m=\u001b[0m \u001b[1;34m\"pm1508.json\"\u001b[0m\u001b[1;33m\u001b[0m\u001b[0m\n\u001b[1;32m----> 7\u001b[1;33m \u001b[1;32mwith\u001b[0m \u001b[0mopen\u001b[0m\u001b[1;33m(\u001b[0m\u001b[0mdata_path\u001b[0m \u001b[1;33m+\u001b[0m \u001b[1;34m\"/\"\u001b[0m \u001b[1;33m+\u001b[0m \u001b[0mfile_name\u001b[0m\u001b[1;33m)\u001b[0m \u001b[1;32mas\u001b[0m \u001b[0mf\u001b[0m\u001b[1;33m:\u001b[0m\u001b[1;33m\u001b[0m\u001b[0m\n\u001b[0m\u001b[0;32m      8\u001b[0m     \u001b[0md\u001b[0m \u001b[1;33m=\u001b[0m \u001b[0mjson\u001b[0m\u001b[1;33m.\u001b[0m\u001b[0mload\u001b[0m\u001b[1;33m(\u001b[0m\u001b[0mf\u001b[0m\u001b[1;33m)\u001b[0m\u001b[1;33m\u001b[0m\u001b[0m\n\u001b[0;32m      9\u001b[0m \u001b[1;33m\u001b[0m\u001b[0m\n",
      "\u001b[1;31mFileNotFoundError\u001b[0m: [Errno 2] No such file or directory: 'E:/Abaqusdir/auto/output/pm1508.json'"
     ]
    }
   ],
   "source": [
    "# coding=utf-8\n",
    "import json\n",
    "from operator import itemgetter\n",
    "\n",
    "data_path = \"E:/Abaqusdir/auto/output\"\n",
    "file_name = \"pm1508.json\"\n",
    "with open(data_path + \"/\" + file_name) as f:\n",
    "    d = json.load(f)\n",
    "\n",
    "bound_pts = sorted(d['bound_pts'], key=itemgetter(0))\n",
    "inner_pts = sorted(d['inner_pts'], key=itemgetter(0))"
   ]
  },
  {
   "cell_type": "code",
   "execution_count": null,
   "metadata": {},
   "outputs": [],
   "source": [
    "from math import sqrt\n",
    "from numpy import std\n",
    "\n",
    "def distance(pt1, pt2):\n",
    "    return abs(pt1[0] - pt2[0]) + abs(pt1[1] - pt2[1])\n",
    "\n",
    "def eldis(pt1, pt2):\n",
    "    x2 = (pt2[0] - pt1[0]) ** 2\n",
    "    y2 = (pt2[1] - pt1[1]) ** 2\n",
    "    z2 = (pt2[2] - pt1[2]) ** 2\n",
    "    return sqrt(x2 + y2 + z2)\n",
    "\n",
    "def avg(pts):\n",
    "    cnt = sum([p[-1] for p in pts]) + 0.0\n",
    "    return cnt / len(pts)\n",
    "\n",
    "def err(pts):\n",
    "    err_val = std([p[-1] for p in pts]) + 0.0\n",
    "    return err_val\n",
    "\n",
    "d.keys()"
   ]
  },
  {
   "cell_type": "code",
   "execution_count": null,
   "metadata": {
    "collapsed": true
   },
   "outputs": [],
   "source": [
    "pt_pair = []\n",
    "\n",
    "for pt_b in bound_pts:\n",
    "    for pt_in in inner_pts:\n",
    "        p1 = pt_b[:3]\n",
    "        p2 = pt_in[:3]\n",
    "        if distance(p1, p2) <= 1.0:\n",
    "            pt_pair.append((pt_b, pt_in))"
   ]
  },
  {
   "cell_type": "code",
   "execution_count": null,
   "metadata": {},
   "outputs": [],
   "source": [
    "import matplotlib.pyplot as plt\n",
    "\n",
    "avg_val = avg(d['bound_pts'])\n",
    "std_err = err(d['bound_pts'])\n",
    "print(\"avg:\", avg_val, \"std_err:\", std_err)\n",
    "\n",
    "for pb, pi in pt_pair:\n",
    "    x1, x2 = pb[0], pi[0]\n",
    "    y1, y2 = pb[1], pi[1]\n",
    "    plt.plot([x1, x2], [y1, y2])\n",
    "plt.show()"
   ]
  },
  {
   "cell_type": "code",
   "execution_count": null,
   "metadata": {},
   "outputs": [],
   "source": [
    "def judge_direction(pb, pi):\n",
    "    if abs(pb[1] - pi[1]) < 0.0001:\n",
    "        return \"x\"\n",
    "    elif abs(pb[0] - pi[0]) < 0.0001:\n",
    "        return \"y\"\n",
    "    else:\n",
    "        raise Exception(\"Wrong point pair!\")\n",
    "\n",
    "def target_point(pb, pi, target):\n",
    "    pb_space, pi_space = pb[3:], pi[3:]\n",
    "    res = judge_direction(pb, pi)\n",
    "    out = None\n",
    "    if res == \"x\":\n",
    "        x_delta = pb[3] - pi[3]\n",
    "        z_delta = pb[5] - pi[5]\n",
    "        x_new = (target - pb[5]) * x_delta / z_delta + pb[3]\n",
    "        out = (x_new, pb[4], target)\n",
    "    elif res == \"y\":\n",
    "        y_delta = pb[4] - pi[4]\n",
    "        z_delta = pb[5] - pi[5]\n",
    "        y_new = (target - pb[5]) * y_delta / z_delta + pb[4]\n",
    "        out = (pb[3], y_new, target)\n",
    "    return out\n",
    "\n",
    "for pb, pi in pt_pair:\n",
    "    pt = target_point(pb, pi, avg_val)\n",
    "    print(pb[3:], pi[3:], pt, eldis(pt, pb[3:]), \"---\"*10,sep=\"\\n\")"
   ]
  },
  {
   "cell_type": "code",
   "execution_count": null,
   "metadata": {},
   "outputs": [],
   "source": [
    "import scipy as sp\n",
    "import numpy as np\n",
    "from scipy.interpolate import splprep, splev\n",
    "x = []\n",
    "y = []\n",
    "data = sorted(d['bound_pts'], key=lambda x: x[0])\n",
    "for pt in data:\n",
    "    if pt[1] < 0:\n",
    "        continue\n",
    "    x.append(pt[0])\n",
    "    y.append(pt[1])\n",
    "for pt in data[::-1]:\n",
    "    if pt[1] >= 0:\n",
    "        continue\n",
    "    x.append(pt[0])\n",
    "    y.append(pt[1])\n",
    "x.append(0)\n",
    "y.append(0)\n",
    "tck, u = splprep([x, y], s=0, k=5)\n",
    "unew = np.arange(0, 1.01, 0.01)\n",
    "out = splev(unew, tck)\n",
    "plt.figure()\n",
    "plt.plot(out[0], out[1])\n",
    "plt.show()"
   ]
  },
  {
   "cell_type": "code",
   "execution_count": null,
   "metadata": {},
   "outputs": [],
   "source": [
    "lst = [(-3.7861401718674284, 0.0), (-3.580932794195233, 1.0), (-3.216762153488217, 2.0), (-2.716286627632199, 3.0), (-2.0567713063774686, 4.0), (-1.2844224256096464, 5.0), (-0.4303252082882505, 6.0), (0.5175453144492526, 7.0), (1.0, 6.90739932475668), (1.5531808453978915, 8.0), (2.0, 8.45208355603796), (2.6750701981963534, 9.0), (3.0, 9.413556544166623), (3.9028557855071444, 10.0), (4.0, 10.07504018960577), (5.0, 10.594130603653012), (5.256295354980411, 11.0), (6.0, 11.014019576889096), (6.849624546188297, 12.0), (7.0, 11.351520149093686), (8.0, 11.599079219680844), (10.0, 11.7187143248139), (11.0, 11.523055641037045), (12.0, 11.196300117355404), (13.0, 10.793300716262875), (13.339615432601986, 12.0), (14.0, 10.356447307449399), (15.0, 9.917791454177914), (16.0, 9.518315879684506), (17.0, 9.172274200302182), (18.0, 8.904683677536068), (19.0, 8.734823314529477), (20.0, 8.676371185165463), (21.0, 8.734823314529477), (22.0, 8.904683677536068), (23.0, 9.172274200302182), (24.0, 9.518315879684506), (25.0, 9.917791454177914), (26.0, 10.356447307449399), (26.66038456739801, 12.0), (27.0, 10.793300716262875), (28.0, 11.196300117355404), (29.0, 11.523055641037045), (30.0, 11.7187143248139), (32.0, 11.599079219680844), (33.0, 11.351520149093686), (33.15037593064886, 12.0), (34.0, 11.014019576889096), (34.743703452926695, 11.0), (35.0, 10.594130842071591), (36.0, 10.07504042802435), (36.0971437376557, 10.0), (37.0, 9.413556782585202), (37.32493027864081, 9.0), (38.0, 8.45208379445654), (38.44681951222998, 8.0), (39.0, 6.907399563175259), (39.48245402989966, 7.0), (40.43032464204413, 6.0), (41.28442352829558, 5.0), (42.056772379261076, 4.0), (42.71628632960898, 3.0), (43.21676203427893, 2.0), (43.58093246636969, 1.0), (43.78614041028601, 0.0)]\n",
    "\n",
    "print(lst)"
   ]
  },
  {
   "cell_type": "code",
   "execution_count": null,
   "metadata": {},
   "outputs": [],
   "source": [
    "from scipy.interpolate import InterpolatedUnivariateSpline, UnivariateSpline\n",
    "import numpy as np\n",
    "\n",
    "spl = UnivariateSpline([p[0] for p in lst], [p[1] for p in lst], s=3)\n",
    "lb, rb = lst[0][0], lst[-1][0]\n",
    "\n",
    "xx = np.linspace(lb, rb, 1000)\n",
    "yy = spl(xx)\n",
    "\n",
    "for p in lst:\n",
    "    plt.plot(p[0], p[1], \"ro\")\n",
    "plt.plot(xx, yy, \"r\")\n",
    "plt.show()\n"
   ]
  },
  {
   "cell_type": "code",
   "execution_count": 9,
   "metadata": {},
   "outputs": [
    {
     "name": "stdout",
     "output_type": "stream",
     "text": [
      "0 2.2090016710677687\n",
      "1 1.225562558142888\n",
      "2 0.6429289932546834\n",
      "3 0.39426270607739383\n",
      "4 0.24456192738747265\n",
      "5 0.1792557083267363\n",
      "6 0.12384271705393562\n",
      "7 0.07911886080687507\n",
      "8 0.052929163076099954\n",
      "9 0.04104024906339531\n",
      "10 0.0316146425144757\n",
      "11 0.023883033588358936\n",
      "12 0.018098973317840588\n",
      "13 0.0\n",
      "14 0.01665520985967546\n",
      "15 0.01818092501253579\n",
      "16 0.015081035950032668\n",
      "17 0.015357110502726668\n",
      "18 0.015101007063938795\n",
      "19 0.013912415631718775\n",
      "20 0.016503978780457444\n",
      "21 0.0\n",
      "22 0.0\n",
      "23 0.0\n",
      "24 0.0\n",
      "25 0.018927532099369582\n",
      "26 0.015873769902510697\n"
     ]
    },
    {
     "data": {
      "image/png": "[encoded data removed]",
      "text/plain": [
       "<matplotlib.figure.Figure at 0x2b5711ec1d0>"
      ]
     },
     "metadata": {},
     "output_type": "display_data"
    }
   ],
   "source": [
    "import glob\n",
    "import matplotlib.pyplot as plt\n",
    "\n",
    "files = glob.glob(\"E:/AbaqusDir/auto/output/res_luck-with-rand**\")\n",
    "\n",
    "results = []\n",
    "\n",
    "for f_n in files:\n",
    "    with open(f_n, \"r\") as f:\n",
    "        d = json.load(f)\n",
    "        results.append(d)\n",
    "\n",
    "results.sort(key=lambda x: x['iter_time'])\n",
    "fig = plt.figure(figsize=(15, 8))\n",
    "for r in results:\n",
    "    x, y = r['iter_time'], r['bound_stderr']\n",
    "    print(x, y)\n",
    "    plt.plot(x, y, \"ro\")\n",
    "plt.ylim((0.0, 2.5))\n",
    "fig.savefig(\"iter_procedure.png\")\n",
    "plt.show()\n",
    "\n",
    "# print(files)\n"
   ]
  },
  {
   "cell_type": "code",
   "execution_count": null,
   "metadata": {
    "collapsed": true
   },
   "outputs": [],
   "source": []
  }
 ],
 "metadata": {
  "kernelspec": {
   "display_name": "Python 3",
   "language": "python",
   "name": "python3"
  },
  "language_info": {
   "codemirror_mode": {
    "name": "ipython",
    "version": 3
   },
   "file_extension": ".py",
   "mimetype": "text/x-python",
   "name": "python",
   "nbconvert_exporter": "python",
   "pygments_lexer": "ipython3",
   "version": "3.6.2"
  }
 },
 "nbformat": 4,
 "nbformat_minor": 2
}
